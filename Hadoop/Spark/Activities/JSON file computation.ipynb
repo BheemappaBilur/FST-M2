from pyspark.sql import SparkSession

spark = SparkSession.builder.appName('JSONtoSpark').getOrCreate()
data = spark.read.json('C:\Users\BhimaBB\FSTM2\Spark\dataFile.json')
data.show()