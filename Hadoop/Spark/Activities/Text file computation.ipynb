from pyspark.sql import SparkSession

spark = SparkSession.builder.appName('TexttoSpark').getOrCreate()
data = spark.read.text('C:\Users\BhimaBB\FSTM2\Spark\dataFile.txt')
data.show()